{
  "nbformat": 4,
  "nbformat_minor": 0,
  "metadata": {
    "colab": {
      "provenance": [],
      "toc_visible": true,
      "authorship_tag": "ABX9TyNOYX3FXwOY6MbOtiBQlMUs",
      "include_colab_link": true
    },
    "kernelspec": {
      "name": "python3",
      "display_name": "Python 3"
    },
    "language_info": {
      "name": "python"
    }
  },
  "cells": [
    {
      "cell_type": "markdown",
      "metadata": {
        "id": "view-in-github",
        "colab_type": "text"
      },
      "source": [
        "<a href=\"https://colab.research.google.com/github/phucdo0912/ueh25_kythuatlaptrinh_stata_python/blob/main/bai_tap_thuc_hanh_co_ban.ipynb\" target=\"_parent\"><img src=\"https://colab.research.google.com/assets/colab-badge.svg\" alt=\"Open In Colab\"/></a>"
      ]
    },
    {
      "cell_type": "markdown",
      "source": [
        "# Bài tập thực hành Các thành phần cơ bản của Python"
      ],
      "metadata": {
        "id": "S-OQSO56uzVN"
      }
    },
    {
      "cell_type": "markdown",
      "source": [
        "## Bài tập mẫu"
      ],
      "metadata": {
        "id": "O0wZjPQ6yFVa"
      }
    },
    {
      "cell_type": "markdown",
      "source": [
        "### Bài 1: In chuỗi"
      ],
      "metadata": {
        "id": "Rp5h6mBbvPgz"
      }
    },
    {
      "cell_type": "code",
      "source": [
        "print(\"Whoever is happy will make others happy too\");\n",
        "print(\"--Anne Frank\");"
      ],
      "metadata": {
        "colab": {
          "base_uri": "https://localhost:8080/"
        },
        "id": "mTSfEI1bvBh9",
        "outputId": "5529f12a-cc71-4274-b241-c1838f5710e6"
      },
      "execution_count": 2,
      "outputs": [
        {
          "output_type": "stream",
          "name": "stdout",
          "text": [
            "Whoever is happy will make others happy too\n",
            "--Anne Frank\n"
          ]
        }
      ]
    },
    {
      "cell_type": "markdown",
      "source": [
        "### Bài 2: Biểu thức tính toán\n",
        "\n"
      ],
      "metadata": {
        "id": "6ZL5m2ZevbkV"
      }
    },
    {
      "cell_type": "code",
      "source": [
        "# Nhập dữ liệu\n",
        "a = int(input(\"Moi ban nhap so a: \"))\n",
        "b = int(input(\"Moi ban nhap so b: \"))\n",
        "# Xử lý\n",
        "kqCong = a + b\n",
        "kqTru = a - b\n",
        "kqNhan = a * b\n",
        "kqChiaNguyen = a // b\n",
        "kqDu= a % b\n",
        "kqChiaThuc = a / b\n",
        "# Xuất dữ liệu\n",
        "print(\"Cac ket qua tinh toan: \")\n",
        "print(\"%-5d + %5d = %5d\"%(a, b, kqCong))\n",
        "print(\"%-5d - %5d = %5d\"%(a, b, kqTru))\n",
        "print(\"%-5d * %5d = %5d\"%(a, b, kqNhan))\n",
        "print(\"%-5d / %5d = %5d\"%(a, b, kqChiaNguyen))\n",
        "print(\"%-5d / %5d = %5d\"%(a, b, kqDu))\n",
        "print(\"%-5d / %5d = %5.2f\"%(a, b, kqChiaThuc))"
      ],
      "metadata": {
        "colab": {
          "base_uri": "https://localhost:8080/"
        },
        "id": "5H2EZkoGvbci",
        "outputId": "1d3fbd25-59e9-4caa-87af-8cb0419a69bc"
      },
      "execution_count": 3,
      "outputs": [
        {
          "output_type": "stream",
          "name": "stdout",
          "text": [
            "Moi ban nhap so a: 55\n",
            "Moi ban nhap so b: 4\n",
            "Cac ket qua tinh toan: \n",
            "55    +     4 =    59\n",
            "55    -     4 =    51\n",
            "55    *     4 =   220\n",
            "55    /     4 =    13\n",
            "55    /     4 =     3\n",
            "55    /     4 = 13.75\n"
          ]
        }
      ]
    },
    {
      "cell_type": "markdown",
      "source": [
        "### Bài 3: Biểu thức so sánh"
      ],
      "metadata": {
        "id": "reOeqTj7wMRP"
      }
    },
    {
      "cell_type": "code",
      "source": [
        "# Nhập dữ liệu\n",
        "a = float(input(\"Moi ban nhap so a: \"))\n",
        "b = float(input(\"Moi ban nhap so b: \"))\n",
        "# Xử lý\n",
        "laNhoHon = (a < b)\n",
        "laNhoHonBang = (a <= b)\n",
        "laLonHon = (a > b)\n",
        "laLonHonBang = (a >= b)\n",
        "laBang = (a == b)\n",
        "laKhacNhau = (a != b)\n",
        "# Xuất dữ liệu\n",
        "print(\"Ket qua so sanh hai so thuc %.2f va %.2f:\"%(a, b))\n",
        "print(\"%-8.2f < %8.2f: %8s\"%(a, b, laNhoHon))\n",
        "print(\"%-8.2f <= %8.2f: %8s\"%(a, b, laNhoHonBang))\n",
        "print(\"%-8.2f > %8.2f: %8s\"%(a, b, laLonHon))\n",
        "print(\"%-8.2f >= %8.2f: %8s\"%(a, b, laLonHonBang))\n",
        "print(\"%-8.2f == %8.2f: %8s\"%(a, b, laBang))\n",
        "print(\"%-8.2f != %8.2f: %8s\"%(a, b, laKhacNhau))"
      ],
      "metadata": {
        "colab": {
          "base_uri": "https://localhost:8080/"
        },
        "id": "WrHSze_5vY4w",
        "outputId": "a0399c7e-6f02-4382-c21b-81c4c3f54b17"
      },
      "execution_count": 4,
      "outputs": [
        {
          "output_type": "stream",
          "name": "stdout",
          "text": [
            "Moi ban nhap so a: 8\n",
            "Moi ban nhap so b: 6.25\n",
            "Ket qua so sanh hai so thuc 8.00 va 6.25:\n",
            "8.00     <     6.25:    False\n",
            "8.00     <=     6.25:    False\n",
            "8.00     >     6.25:     True\n",
            "8.00     >=     6.25:     True\n",
            "8.00     ==     6.25:    False\n",
            "8.00     !=     6.25:     True\n"
          ]
        }
      ]
    },
    {
      "cell_type": "markdown",
      "source": [
        "### Bài 4: Tính giá trị hàm số"
      ],
      "metadata": {
        "id": "VO8Rg409xi5e"
      }
    },
    {
      "cell_type": "code",
      "source": [
        "# Nạp thư viện\n",
        "import math\n",
        "# Nhập dữ liệu\n",
        "x = float(input(\"Moi ban nhap vao gia tri cua bien so x: \"))\n",
        "# Xử lý\n",
        "fx = x + math.pow(x, 5) / (1 * 2 * 3 * 4 * 5) + \\\n",
        "  math.sqrt(abs(x)) / math.pow(x, 3.0 / 2)\n",
        "# Xuất dữ liệu\n",
        "print(\"Gia tri cua ham so f(%.2f) = %.2f.\"%(x, fx))"
      ],
      "metadata": {
        "colab": {
          "base_uri": "https://localhost:8080/"
        },
        "id": "uOmSlqsdweU2",
        "outputId": "ceeb298f-5863-4c5f-9bf0-a86792b410a5"
      },
      "execution_count": 6,
      "outputs": [
        {
          "output_type": "stream",
          "name": "stdout",
          "text": [
            "Moi ban nhap vao gia tri cua bien so x: 5\n",
            "Gia tri cua ham so f(5.00) = 31.24.\n"
          ]
        }
      ]
    },
    {
      "cell_type": "markdown",
      "source": [
        "### Bài 5: Tổng chữ số"
      ],
      "metadata": {
        "id": "C_gpI8uWyIlO"
      }
    },
    {
      "cell_type": "code",
      "source": [
        "# Nhập dữ liệu\n",
        "n = int(input(\"Moi ban nhap vao so nguyen co 4 chu so: \"))\n",
        "\n",
        "# Xử lý\n",
        "# Kiểm tra xem n có phải là số có 4 chữ số không\n",
        "if 1000 <= n <= 9999:\n",
        "  hangNghin = n // 1000\n",
        "  hangTram = (n % 1000) // 100\n",
        "  hangChuc = (n % 100) // 10\n",
        "  hangDonVi = n % 10\n",
        "  tongChuSo = hangNghin + hangTram + hangChuc + hangDonVi\n",
        "  # Xuất dữ liệu\n",
        "  print(\"Tong cac chu so cua %d la: %d\"%(n, tongChuSo))\n",
        "else:\n",
        "  print(\"So ban nhap khong phai la so co 4 chu so.\")"
      ],
      "metadata": {
        "colab": {
          "base_uri": "https://localhost:8080/"
        },
        "id": "wBga1MM9xwKZ",
        "outputId": "eb56e865-3a32-497e-c97c-744d0324515e"
      },
      "execution_count": 8,
      "outputs": [
        {
          "output_type": "stream",
          "name": "stdout",
          "text": [
            "Moi ban nhap vao so nguyen co 4 chu so: 4325\n",
            "Tong cac chu so cua 4325 la: 14\n"
          ]
        }
      ]
    },
    {
      "cell_type": "markdown",
      "source": [
        "## Bài tập thực hành"
      ],
      "metadata": {
        "id": "vgAnNVPXzF3l"
      }
    },
    {
      "cell_type": "markdown",
      "source": [
        "### Bài 1: In nhãn"
      ],
      "metadata": {
        "id": "NZW6fYmYzNDQ"
      }
    },
    {
      "cell_type": "code",
      "source": [
        "print('**************************')\n",
        "print('* Truong: Dai Hoc UEH    *')\n",
        "print('* Khoa: CNTT             *')\n",
        "print('* Ho ten:                *')\n",
        "print('**************************')"
      ],
      "metadata": {
        "colab": {
          "base_uri": "https://localhost:8080/"
        },
        "id": "deNDWMWDyl8x",
        "outputId": "e035d066-a5e1-4ade-8b93-c53155184b73"
      },
      "execution_count": 9,
      "outputs": [
        {
          "output_type": "stream",
          "name": "stdout",
          "text": [
            "**************************\n",
            "* Truong: Dai Hoc UEH    *\n",
            "* Khoa: CNTT             *\n",
            "* Ho ten:                *\n",
            "**************************\n"
          ]
        }
      ]
    },
    {
      "cell_type": "markdown",
      "source": [
        "### Bài 2: Tính diện tích và chu vi hình tròn"
      ],
      "metadata": {
        "id": "-OhMoiZfz3u2"
      }
    },
    {
      "cell_type": "code",
      "source": [
        "# nạp thư viện\n",
        "import math\n",
        "# nhập dữ liệu\n",
        "R = float(input(\"Nhập bán kính hình tròn: \"))\n",
        "\n",
        "# Xử lý\n",
        "S = math.pi * R ** 2\n",
        "C = 2 * math.pi * R\n",
        "\n",
        "# Xuất dữ liệu\n",
        "print(\"Diện tích: %.2f\"%(S))\n",
        "print(\"Chu vi: %.2f\"%(C))"
      ],
      "metadata": {
        "colab": {
          "base_uri": "https://localhost:8080/"
        },
        "id": "2EIxS-uazxyy",
        "outputId": "9a1cf349-1dad-46bb-845c-f2d545321c1a"
      },
      "execution_count": 25,
      "outputs": [
        {
          "output_type": "stream",
          "name": "stdout",
          "text": [
            "Nhập bán kính hình tròn: 49\n",
            "Diện tích: 7542.96\n",
            "Chu vi: 307.88\n"
          ]
        }
      ]
    },
    {
      "cell_type": "markdown",
      "source": [
        "### Bài 3: Đổi sang giây"
      ],
      "metadata": {
        "id": "SqAgbzdw2s6z"
      }
    },
    {
      "cell_type": "code",
      "metadata": {
        "colab": {
          "base_uri": "https://localhost:8080/"
        },
        "id": "c37d14cd",
        "outputId": "56f5446d-f462-4bf3-9847-73f7f6081044"
      },
      "source": [
        "# Nhập dữ liệu\n",
        "h = int(input(\"Nhập số giờ: \"))\n",
        "m = int(input(\"Nhập số phút: \"))\n",
        "s = int(input(\"Nhập số giây: \"))\n",
        "\n",
        "# Xử lý\n",
        "total_seconds = h * 3600 + m * 60 + s\n",
        "\n",
        "# Xuất dữ liệu\n",
        "print(\"Tổng số giây là:\", total_seconds)"
      ],
      "execution_count": 17,
      "outputs": [
        {
          "output_type": "stream",
          "name": "stdout",
          "text": [
            "Nhập số giờ: 6\n",
            "Nhập số phút: 9\n",
            "Nhập số giây: 24\n",
            "Tổng số giây là: 22164\n"
          ]
        }
      ]
    },
    {
      "cell_type": "markdown",
      "source": [
        "###  Bài 4. Đổi sang giờ phút giây"
      ],
      "metadata": {
        "id": "dSInls7Q3Hm6"
      }
    },
    {
      "cell_type": "code",
      "source": [],
      "metadata": {
        "id": "hdZRE9Hq3Gx9"
      },
      "execution_count": null,
      "outputs": []
    },
    {
      "cell_type": "code",
      "metadata": {
        "colab": {
          "base_uri": "https://localhost:8080/"
        },
        "id": "66205ccc",
        "outputId": "4cf67e71-7014-4edf-9ea7-5e0eddd9e2df"
      },
      "source": [
        "# Nhập dữ liệu\n",
        "t = int(input(\"Nhập tổng số giây: \"))\n",
        "\n",
        "# Xử lý\n",
        "gio = t // 3600\n",
        "giay_con_lai_sau_gio = t % 3600\n",
        "phut = giay_con_lai_sau_gio // 60\n",
        "giay = giay_con_lai_sau_gio % 60\n",
        "\n",
        "# Xuất dữ liệu\n",
        "print(\"%d giây tương đương với %d giờ, %d phút và %d giây.\" % (t, gio, phut, giay))"
      ],
      "execution_count": 18,
      "outputs": [
        {
          "output_type": "stream",
          "name": "stdout",
          "text": [
            "Nhập tổng số giây: 3600\n",
            "3600 giây tương đương với 1 giờ, 0 phút và 0 giây.\n"
          ]
        }
      ]
    },
    {
      "cell_type": "markdown",
      "source": [
        "### Bài 5. Tính diện tích tam giác"
      ],
      "metadata": {
        "id": "vJorE9BZ9GE5"
      }
    },
    {
      "cell_type": "code",
      "metadata": {
        "colab": {
          "base_uri": "https://localhost:8080/"
        },
        "id": "3b26bb26",
        "outputId": "5dc9f4e7-c387-4ca2-8ed9-4534bcb06254"
      },
      "source": [
        "import math\n",
        "\n",
        "# Nhập dữ liệu\n",
        "a = float(input(\"Nhập độ dài cạnh a: \"))\n",
        "b = float(input(\"Nhập độ dài cạnh b: \"))\n",
        "c = float(input(\"Nhập độ dài cạnh c: \"))\n",
        "\n",
        "# Kiểm tra xem có phải là tam giác hợp lệ không\n",
        "if (a + b > c) and (a + c > b) and (b + c > a):\n",
        "  # Xử lý\n",
        "  p = (a + b + c) / 2\n",
        "  s = math.sqrt(p * (p - a) * (p - b) * (p - c))\n",
        "\n",
        "  # Xuất dữ liệu\n",
        "  print(\"Diện tích của tam giác là: %.2f\" % s)\n",
        "else:\n",
        "  print(\"Ba cạnh đã nhập không tạo thành một tam giác hợp lệ.\")"
      ],
      "execution_count": 23,
      "outputs": [
        {
          "output_type": "stream",
          "name": "stdout",
          "text": [
            "Nhập độ dài cạnh a: 6\n",
            "Nhập độ dài cạnh b: 8\n",
            "Nhập độ dài cạnh c: 10\n",
            "Diện tích của tam giác là: 24.00\n"
          ]
        }
      ]
    },
    {
      "cell_type": "markdown",
      "source": [
        "### Bài 6: Hàm mũ"
      ],
      "metadata": {
        "id": "iN0UN25m-i_9"
      }
    },
    {
      "cell_type": "code",
      "source": [],
      "metadata": {
        "id": "6-7HYll_9W7E"
      },
      "execution_count": null,
      "outputs": []
    },
    {
      "cell_type": "code",
      "metadata": {
        "colab": {
          "base_uri": "https://localhost:8080/"
        },
        "id": "e6c7102b",
        "outputId": "c28446a6-a48f-41b3-b027-15dd61ec5b03"
      },
      "source": [
        "# Nhập dữ liệu\n",
        "a = float(input(\"Nhập số thực a: \"))\n",
        "n = int(input(\"Nhập số nguyên n: \"))\n",
        "\n",
        "# Xử lý\n",
        "ket_qua = a ** n\n",
        "\n",
        "# Xuất dữ liệu\n",
        "print(\"%.2f mũ %d là: %.2f\" % (a, n, ket_qua))"
      ],
      "execution_count": 24,
      "outputs": [
        {
          "output_type": "stream",
          "name": "stdout",
          "text": [
            "Nhập số thực a: 2\n",
            "Nhập số nguyên n: 4\n",
            "2.00 mũ 4 là: 16.00\n"
          ]
        }
      ]
    },
    {
      "cell_type": "markdown",
      "source": [
        "### Bài 7. Đảo số"
      ],
      "metadata": {
        "id": "jLC6x5y-_9gv"
      }
    },
    {
      "cell_type": "code",
      "source": [],
      "metadata": {
        "id": "Dp6PViU5_eAJ"
      },
      "execution_count": null,
      "outputs": []
    },
    {
      "cell_type": "code",
      "metadata": {
        "colab": {
          "base_uri": "https://localhost:8080/"
        },
        "id": "45e2a2c1",
        "outputId": "ce757cf9-4b02-47c9-e1db-d725e640fc2e"
      },
      "source": [
        "# Nhập dữ liệu\n",
        "x = int(input(\"Nhập số nguyên có 4 chữ số: \"))\n",
        "\n",
        "# Xử lý\n",
        "if 1000 <= x <= 9999:\n",
        "  nghin = x // 1000\n",
        "  tram = (x % 1000) // 100\n",
        "  chuc = (x % 100) // 10\n",
        "  don_vi = x % 10\n",
        "  y = don_vi * 1000 + chuc * 100 + tram * 10 + nghin\n",
        "  # Xuất dữ liệu\n",
        "  print(\"Số đảo của %d là: %d\" % (x, y))\n",
        "else:\n",
        "  print(\"Số bạn nhập không phải là số có 4 chữ số.\")"
      ],
      "execution_count": 26,
      "outputs": [
        {
          "output_type": "stream",
          "name": "stdout",
          "text": [
            "Nhập số nguyên có 4 chữ số: 1234\n",
            "Số đảo của 1234 là: 4321\n"
          ]
        }
      ]
    },
    {
      "cell_type": "markdown",
      "source": [
        "### Bài 8: Độ sang radian"
      ],
      "metadata": {
        "id": "9HUkL0vFBIHS"
      }
    },
    {
      "cell_type": "code",
      "source": [
        "# nạp thư viện\n",
        "import math\n",
        "# Nhập dữ liệu\n",
        "x = float(input('Nhập góc dưới dạng độ: '))\n",
        "\n",
        "# Xử lý\n",
        "rad = math.pi/180 * x\n",
        "\n",
        "# Xuất dữ liệu\n",
        "print('%.2f độ tương ứng với %.2f radian' % (x, rad) )"
      ],
      "metadata": {
        "colab": {
          "base_uri": "https://localhost:8080/"
        },
        "id": "ckgIIGSYAZrO",
        "outputId": "c990a90b-4673-41c6-e88d-4d7190341fc5"
      },
      "execution_count": 28,
      "outputs": [
        {
          "output_type": "stream",
          "name": "stdout",
          "text": [
            "Nhập góc dưới dạng độ: 60\n",
            "60.00 độ tương ứng với 1.05 radian\n"
          ]
        }
      ]
    },
    {
      "cell_type": "markdown",
      "source": [
        "### Bài 9. Hàm số 1"
      ],
      "metadata": {
        "id": "IC0J5y8xCPuP"
      }
    },
    {
      "cell_type": "code",
      "source": [
        "# nạp thư viện\n",
        "import math\n",
        "# Nhập dữ liệu\n",
        "x = float(input('Nhập x: '))\n",
        "\n",
        "# Xử lý\n",
        "y1 = 4*(x**2+10*x*math.sqrt(x)+3*x+1)\n",
        "y2 = (math.sin(math.pi*x**2) + math.sqrt(x**2+1))/math.e**(2*x) + math.cos(math.pi*x/4)\n",
        "\n",
        "# Xuất dữ liệu\n",
        "print('y1 = %.2f' %(y1))\n",
        "print('y2 = %.2f' %(y2))"
      ],
      "metadata": {
        "colab": {
          "base_uri": "https://localhost:8080/"
        },
        "id": "0ljMsYjsB7tL",
        "outputId": "00293076-d9e4-497c-9cc3-3f57ad59bc5f"
      },
      "execution_count": 30,
      "outputs": [
        {
          "output_type": "stream",
          "name": "stdout",
          "text": [
            "Nhập x: 3\n",
            "y1 = 283.85\n",
            "y2 = -0.70\n"
          ]
        }
      ]
    },
    {
      "cell_type": "markdown",
      "source": [
        "### Bài 10: Khoảng cách"
      ],
      "metadata": {
        "id": "pWc4tDibEYPm"
      }
    },
    {
      "cell_type": "code",
      "source": [
        "# nạp thư viện\n",
        "import math\n",
        "\n",
        "# Nhập dữ liệu\n",
        "x1 = float(input(\"Nhập tọa độ x của điểm A: \"))\n",
        "y1 = float(input(\"Nhập tọa độ y của điểm A: \"))\n",
        "x2 = float(input(\"Nhập tọa độ x của điểm B: \"))\n",
        "y2 = float(input(\"Nhập tọa độ y của điểm B: \"))\n",
        "\n",
        "# Xử lý\n",
        "d = math.sqrt((x2 - x1)**2 + (y2 - y1)**2)\n",
        "\n",
        "# Xuất dữ liệu\n",
        "print(\"Khoảng cách giữa hai điểm là: %.2f\" % d)"
      ],
      "metadata": {
        "colab": {
          "base_uri": "https://localhost:8080/"
        },
        "id": "bLCeEfEPEBmI",
        "outputId": "9ed06770-1e25-4340-a0d8-f3067dfd99f3"
      },
      "execution_count": 31,
      "outputs": [
        {
          "output_type": "stream",
          "name": "stdout",
          "text": [
            "Nhập tọa độ x của điểm A: 2\n",
            "Nhập tọa độ y của điểm A: 4\n",
            "Nhập tọa độ x của điểm B: 4\n",
            "Nhập tọa độ y của điểm B: 9\n",
            "Khoảng cách giữa hai điểm là: 5.39\n"
          ]
        }
      ]
    },
    {
      "cell_type": "markdown",
      "source": [
        "# Kết thúc"
      ],
      "metadata": {
        "id": "5t2kD0Y9FAX-"
      }
    }
  ]
}