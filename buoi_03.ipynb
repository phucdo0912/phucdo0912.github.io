{
  "nbformat": 4,
  "nbformat_minor": 0,
  "metadata": {
    "colab": {
      "provenance": [],
      "authorship_tag": "ABX9TyMMtHNf6OlvmwOCkPgb0tp6",
      "include_colab_link": true
    },
    "kernelspec": {
      "name": "python3",
      "display_name": "Python 3"
    },
    "language_info": {
      "name": "python"
    }
  },
  "cells": [
    {
      "cell_type": "markdown",
      "metadata": {
        "id": "view-in-github",
        "colab_type": "text"
      },
      "source": [
        "<a href=\"https://colab.research.google.com/github/phucdo0912/ueh25_kythuatlaptrinh_stata_python/blob/main/buoi_03.ipynb\" target=\"_parent\"><img src=\"https://colab.research.google.com/assets/colab-badge.svg\" alt=\"Open In Colab\"/></a>"
      ]
    },
    {
      "cell_type": "code",
      "execution_count": 7,
      "metadata": {
        "colab": {
          "base_uri": "https://localhost:8080/",
          "height": 53
        },
        "id": "SA7Lwkjt2Nlf",
        "outputId": "ce86c346-1ba6-48e5-f55f-04999107a804"
      },
      "outputs": [
        {
          "output_type": "stream",
          "name": "stdout",
          "text": [
            "Hello World\n"
          ]
        },
        {
          "output_type": "display_data",
          "data": {
            "text/plain": [
              "'Hello World'"
            ],
            "application/vnd.google.colaboratory.intrinsic+json": {
              "type": "string"
            }
          },
          "metadata": {}
        }
      ],
      "source": [
        "# comment\n",
        "'''\n",
        "comment\n",
        "'''\n",
        "print (\"Hello World\")\n",
        "display (\"Hello World\")"
      ]
    },
    {
      "cell_type": "code",
      "source": [
        "# indent\n",
        "score = 80\n",
        "if score >= 60:\n",
        "  print(\"pass\")\n",
        "  pass # dummy"
      ],
      "metadata": {
        "colab": {
          "base_uri": "https://localhost:8080/"
        },
        "id": "ZHI8hAxO7HXA",
        "outputId": "c1d2be7d-b4ba-42ef-8119-3454c976f01e"
      },
      "execution_count": 8,
      "outputs": [
        {
          "output_type": "stream",
          "name": "stdout",
          "text": [
            "pass\n"
          ]
        }
      ]
    },
    {
      "cell_type": "code",
      "source": [
        "# variable\n",
        "x=2\n",
        "price=2.5\n",
        "word='Hello'\n",
        "print(word, type(word))"
      ],
      "metadata": {
        "colab": {
          "base_uri": "https://localhost:8080/"
        },
        "id": "fiCzKzZ47IFm",
        "outputId": "76ddc33a-01aa-4392-9e58-9070c529e82d"
      },
      "execution_count": 10,
      "outputs": [
        {
          "output_type": "stream",
          "name": "stdout",
          "text": [
            "Hello <class 'str'>\n"
          ]
        }
      ]
    },
    {
      "cell_type": "code",
      "source": [
        "x=2\n",
        "y=x+1\n",
        "print(x,y)\n",
        "print(f'x={x},y={y}')"
      ],
      "metadata": {
        "colab": {
          "base_uri": "https://localhost:8080/"
        },
        "id": "_obmTtGg7gnS",
        "outputId": "b8e6344d-59f3-4204-be7c-fc2ac970f13b"
      },
      "execution_count": 17,
      "outputs": [
        {
          "output_type": "stream",
          "name": "stdout",
          "text": [
            "2 3\n",
            "x=2,y=3\n"
          ]
        }
      ]
    },
    {
      "cell_type": "code",
      "source": [
        "x = \"Hello World\" #str\n",
        "x = 2 #int\n",
        "x = 2.5 #float\n",
        "x = 7j #complex"
      ],
      "metadata": {
        "id": "q6czn5wU8EfL"
      },
      "execution_count": 18,
      "outputs": []
    },
    {
      "cell_type": "code",
      "source": [
        "x = [\"apple\", \"banana\", \"cherry\"] #list\n",
        "x = (\"apple\", \"banana\", \"cherry\") #tuple\n",
        "x = range(6) #range\n",
        "print(x,list(x))\n",
        "x = {\"name\" : \"Tom\", \"age\" : 20} #dict\n",
        "print(x, x['age'])\n",
        "x = {\"apple\", \"banana\", \"cherry\"} #set\n",
        "x = frozenset({\"apple\", \"banana\", \"cherry\"})\n",
        "#frozenset"
      ],
      "metadata": {
        "colab": {
          "base_uri": "https://localhost:8080/"
        },
        "id": "h8aJTOds90DD",
        "outputId": "8f2b04ee-2f98-4ee5-a03d-2071ed5becae"
      },
      "execution_count": 25,
      "outputs": [
        {
          "output_type": "stream",
          "name": "stdout",
          "text": [
            "range(0, 6) [0, 1, 2, 3, 4, 5]\n",
            "{'name': 'Tom', 'age': 20} 20\n"
          ]
        }
      ]
    },
    {
      "cell_type": "code",
      "source": [
        "x = True #bool\n",
        "print(x, type(x))\n",
        "x = b\"Hello\" #bytes\n",
        "print(x, type(x))\n",
        "x = bytearray(5) #bytearray\n",
        "print(x, type(x))\n",
        "x = memoryview(bytes(5)) #memoryview\n",
        "print(x, type(x))\n",
        "x = None #NoneType\n",
        "print(x, type(x))"
      ],
      "metadata": {
        "colab": {
          "base_uri": "https://localhost:8080/"
        },
        "id": "SaYtVHOs9oG9",
        "outputId": "401498e3-26ee-4015-8e6a-6d9c9cf7d1d6"
      },
      "execution_count": 27,
      "outputs": [
        {
          "output_type": "stream",
          "name": "stdout",
          "text": [
            "True <class 'bool'>\n",
            "b'Hello' <class 'bytes'>\n",
            "bytearray(b'\\x00\\x00\\x00\\x00\\x00') <class 'bytearray'>\n",
            "<memory at 0x7b78952dbf40> <class 'memoryview'>\n",
            "None <class 'NoneType'>\n"
          ]
        }
      ]
    },
    {
      "cell_type": "markdown",
      "source": [
        "## Ép kiểu (casting)"
      ],
      "metadata": {
        "id": "X_bDdcse_xNe"
      }
    },
    {
      "cell_type": "code",
      "source": [
        "x = str(3) # x will be '3'\n",
        "y = int(3) # y will be 3\n",
        "z = float(3) # z will be 3.0\n",
        "print(x, type(x))\n",
        "print(y, type(y))\n",
        "print(z, type(z))\n",
        "\n",
        "print(list(range(6)))"
      ],
      "metadata": {
        "colab": {
          "base_uri": "https://localhost:8080/"
        },
        "id": "KTNe4UDy_tWz",
        "outputId": "37877e34-0c7e-49d0-d920-fcb50a9969b1"
      },
      "execution_count": 31,
      "outputs": [
        {
          "output_type": "stream",
          "name": "stdout",
          "text": [
            "3 <class 'str'>\n",
            "3 <class 'int'>\n",
            "3.0 <class 'float'>\n",
            "[0, 1, 2, 3, 4, 5]\n"
          ]
        }
      ]
    },
    {
      "cell_type": "markdown",
      "source": [
        "##  Arithmetic Operators"
      ],
      "metadata": {
        "id": "8G1g8HUsAazX"
      }
    },
    {
      "cell_type": "code",
      "source": [
        "'''\n",
        "Operator Name Example\n",
        "+ Addition 7 + 2 = 9\n",
        "- Subtraction 7 - 2 = 5\n",
        "* Multiplication 7 * 2 = 14\n",
        "/ Division 7 / 2 = 3.5\n",
        "// Floor division 7 // 2 = 3 (Quotient)\n",
        "% Modulus 7 % 2 = 1 (Remainder)\n",
        "** Exponentiation 7 ** 2 = 49\n",
        "'''"
      ],
      "metadata": {
        "colab": {
          "base_uri": "https://localhost:8080/",
          "height": 53
        },
        "id": "4Slb_JufAOUZ",
        "outputId": "5657c74d-f484-414a-a856-87e51d098e74"
      },
      "execution_count": 32,
      "outputs": [
        {
          "output_type": "execute_result",
          "data": {
            "text/plain": [
              "'\\nOperator Name Example\\n+ Addition 7 + 2 = 9\\n- Subtraction 7 - 2 = 5\\n* Multiplication 7 * 2 = 14\\n/ Division 7 / 2 = 3.5\\n// Floor division 7 // 2 = 3 (Quotient)\\n% Modulus 7 % 2 = 1 (Remainder)\\n** Exponentiation 7 ** 2 = 49\\n'"
            ],
            "application/vnd.google.colaboratory.intrinsic+json": {
              "type": "string"
            }
          },
          "metadata": {},
          "execution_count": 32
        }
      ]
    },
    {
      "cell_type": "code",
      "source": [
        "print('7 + 2 =', 7 + 2)\n",
        "print('7 - 2 =', 7 - 2)\n",
        "print('7 * 2 =', 7 * 2)\n",
        "print('7 / 2 =', 7 / 2)\n",
        "print('7 // 2 =', 7 // 2)\n",
        "print('7 % 2 =', 7 % 2)\n",
        "print('7 ** 2 =', 7 ** 2)"
      ],
      "metadata": {
        "colab": {
          "base_uri": "https://localhost:8080/"
        },
        "id": "_0YnQSu1Arfo",
        "outputId": "89aad07f-402e-485f-ca47-d62b4a2956e7"
      },
      "execution_count": 33,
      "outputs": [
        {
          "output_type": "stream",
          "name": "stdout",
          "text": [
            "7 + 2 = 9\n",
            "7 - 2 = 5\n",
            "7 * 2 = 14\n",
            "7 / 2 = 3.5\n",
            "7 // 2 = 3\n",
            "7 % 2 = 1\n",
            "7 ** 2 = 49\n"
          ]
        }
      ]
    },
    {
      "cell_type": "markdown",
      "source": [
        "## Boolean (true/false)"
      ],
      "metadata": {
        "id": "ZPhBCQp4A2n-"
      }
    },
    {
      "cell_type": "code",
      "source": [
        "print(3 > 2)\n",
        "print(3 == 2)\n",
        "print(3 < 2)"
      ],
      "metadata": {
        "colab": {
          "base_uri": "https://localhost:8080/"
        },
        "id": "vsCszn3TAuae",
        "outputId": "7b056c58-1a31-414c-b405-b1a263615164"
      },
      "execution_count": 34,
      "outputs": [
        {
          "output_type": "stream",
          "name": "stdout",
          "text": [
            "True\n",
            "False\n",
            "False\n"
          ]
        }
      ]
    },
    {
      "cell_type": "code",
      "source": [
        "# Tính toán BMI\n",
        "# input\n",
        "height_cm = 170\n",
        "weight_kg = 60\n",
        "\n",
        "# process\n",
        "height_cm = height_cm / 100\n",
        "bmi = weight_kg / (height_cm ** 2)\n",
        "\n",
        "# output\n",
        "print(f'BMI = {bmi}')"
      ],
      "metadata": {
        "colab": {
          "base_uri": "https://localhost:8080/"
        },
        "id": "NqvEWOdkBHB0",
        "outputId": "db1fed30-ffc8-4208-f82b-b019fcb2b34c"
      },
      "execution_count": 36,
      "outputs": [
        {
          "output_type": "stream",
          "name": "stdout",
          "text": [
            "BMI = 20.761245674740486\n"
          ]
        }
      ]
    },
    {
      "cell_type": "code",
      "source": [
        "# Future value of a specified principal amount, rate of interest, and a number of years\n",
        "# How much is your $100 worth after 7 years?\n",
        "fv = 100 * 1.1 ** 7\n",
        "print('fv = ', round(fv, 2))"
      ],
      "metadata": {
        "colab": {
          "base_uri": "https://localhost:8080/"
        },
        "id": "C9-zrv2UCKW8",
        "outputId": "64d2e170-cb78-4433-a88e-92706b351129"
      },
      "execution_count": 37,
      "outputs": [
        {
          "output_type": "stream",
          "name": "stdout",
          "text": [
            "fv =  194.87\n"
          ]
        }
      ]
    },
    {
      "cell_type": "code",
      "source": [
        "# Future Value\n",
        "pv = 100\n",
        "r = 0.1\n",
        "n = 7\n",
        "fv = pv * ((1 + (r)) ** n)\n",
        "print(round(fv, 2))"
      ],
      "metadata": {
        "colab": {
          "base_uri": "https://localhost:8080/"
        },
        "id": "ILJu-Tu9CkGm",
        "outputId": "970f72fc-ac69-4197-f67d-ccb456f98e09"
      },
      "execution_count": 38,
      "outputs": [
        {
          "output_type": "stream",
          "name": "stdout",
          "text": [
            "194.87\n"
          ]
        }
      ]
    },
    {
      "cell_type": "code",
      "source": [
        "# Future Value\n",
        "amount = 100\n",
        "interest = 10 #10% = 0.01 * 10\n",
        "years = 7\n",
        "future_value = amount * ((1 + (0.01 * interest)) ** years)\n",
        "print(round(future_value, 2))\n",
        "print('fv = ', round(fv, 2))"
      ],
      "metadata": {
        "colab": {
          "base_uri": "https://localhost:8080/"
        },
        "id": "l1nysekTCo_4",
        "outputId": "7c991342-f767-48c3-d561-c0a69ffbe41d"
      },
      "execution_count": 40,
      "outputs": [
        {
          "output_type": "stream",
          "name": "stdout",
          "text": [
            "194.87\n",
            "fv =  194.87\n"
          ]
        }
      ]
    },
    {
      "cell_type": "markdown",
      "source": [
        "# Kết thúc"
      ],
      "metadata": {
        "id": "ynZt93ciDKRF"
      }
    }
  ]
}