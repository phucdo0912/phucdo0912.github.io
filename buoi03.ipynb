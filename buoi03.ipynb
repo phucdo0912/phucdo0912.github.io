{
  "nbformat": 4,
  "nbformat_minor": 0,
  "metadata": {
    "colab": {
      "provenance": [],
      "authorship_tag": "ABX9TyPMllwqS6TeT95ihAWsoyOq",
      "include_colab_link": true
    },
    "kernelspec": {
      "name": "python3",
      "display_name": "Python 3"
    },
    "language_info": {
      "name": "python"
    }
  },
  "cells": [
    {
      "cell_type": "markdown",
      "metadata": {
        "id": "view-in-github",
        "colab_type": "text"
      },
      "source": [
        "<a href=\"https://colab.research.google.com/github/phucdo0912/ueh25_kythuatlaptrinh_stata_python/blob/main/buoi03.ipynb\" target=\"_parent\"><img src=\"https://colab.research.google.com/assets/colab-badge.svg\" alt=\"Open In Colab\"/></a>"
      ]
    },
    {
      "cell_type": "code",
      "execution_count": 7,
      "metadata": {
        "colab": {
          "base_uri": "https://localhost:8080/",
          "height": 53
        },
        "id": "SA7Lwkjt2Nlf",
        "outputId": "ce86c346-1ba6-48e5-f55f-04999107a804"
      },
      "outputs": [
        {
          "output_type": "stream",
          "name": "stdout",
          "text": [
            "Hello World\n"
          ]
        },
        {
          "output_type": "display_data",
          "data": {
            "text/plain": [
              "'Hello World'"
            ],
            "application/vnd.google.colaboratory.intrinsic+json": {
              "type": "string"
            }
          },
          "metadata": {}
        }
      ],
      "source": [
        "# comment\n",
        "'''\n",
        "comment\n",
        "'''\n",
        "print (\"Hello World\")\n",
        "display (\"Hello World\")"
      ]
    },
    {
      "cell_type": "code",
      "source": [
        "# indent\n",
        "score = 80\n",
        "if score >= 60:\n",
        "  print(\"pass\")\n",
        "  pass # dummy"
      ],
      "metadata": {
        "colab": {
          "base_uri": "https://localhost:8080/"
        },
        "id": "ZHI8hAxO7HXA",
        "outputId": "c1d2be7d-b4ba-42ef-8119-3454c976f01e"
      },
      "execution_count": 8,
      "outputs": [
        {
          "output_type": "stream",
          "name": "stdout",
          "text": [
            "pass\n"
          ]
        }
      ]
    },
    {
      "cell_type": "code",
      "source": [
        "# variable\n",
        "x=2\n",
        "price=2.5\n",
        "word='Hello'\n",
        "print(word, type(word))"
      ],
      "metadata": {
        "colab": {
          "base_uri": "https://localhost:8080/"
        },
        "id": "fiCzKzZ47IFm",
        "outputId": "76ddc33a-01aa-4392-9e58-9070c529e82d"
      },
      "execution_count": 10,
      "outputs": [
        {
          "output_type": "stream",
          "name": "stdout",
          "text": [
            "Hello <class 'str'>\n"
          ]
        }
      ]
    },
    {
      "cell_type": "code",
      "source": [
        "x=2\n",
        "y=x+1\n",
        "print(x,y)\n",
        "print(f'x={x},y={y}')"
      ],
      "metadata": {
        "colab": {
          "base_uri": "https://localhost:8080/"
        },
        "id": "_obmTtGg7gnS",
        "outputId": "b8e6344d-59f3-4204-be7c-fc2ac970f13b"
      },
      "execution_count": 17,
      "outputs": [
        {
          "output_type": "stream",
          "name": "stdout",
          "text": [
            "2 3\n",
            "x=2,y=3\n"
          ]
        }
      ]
    },
    {
      "cell_type": "code",
      "source": [
        "x = \"Hello World\" #str\n",
        "x = 2 #int\n",
        "x = 2.5 #float\n",
        "x = 7j #complex"
      ],
      "metadata": {
        "id": "q6czn5wU8EfL"
      },
      "execution_count": 18,
      "outputs": []
    },
    {
      "cell_type": "code",
      "source": [
        "x = [\"apple\", \"banana\", \"cherry\"] #list\n",
        "x = (\"apple\", \"banana\", \"cherry\") #tuple\n",
        "x = range(6) #range\n",
        "print(x,list(x))\n",
        "x = {\"name\" : \"Tom\", \"age\" : 20} #dict\n",
        "print(x, x['age'])\n",
        "x = {\"apple\", \"banana\", \"cherry\"} #set\n",
        "x = frozenset({\"apple\", \"banana\", \"cherry\"})\n",
        "#frozenset"
      ],
      "metadata": {
        "colab": {
          "base_uri": "https://localhost:8080/"
        },
        "id": "h8aJTOds90DD",
        "outputId": "8f2b04ee-2f98-4ee5-a03d-2071ed5becae"
      },
      "execution_count": 25,
      "outputs": [
        {
          "output_type": "stream",
          "name": "stdout",
          "text": [
            "range(0, 6) [0, 1, 2, 3, 4, 5]\n",
            "{'name': 'Tom', 'age': 20} 20\n"
          ]
        }
      ]
    },
    {
      "cell_type": "code",
      "source": [
        "x = True #bool\n",
        "print(x, type(x))\n",
        "x = b\"Hello\" #bytes\n",
        "print(x, type(x))\n",
        "x = bytearray(5) #bytearray\n",
        "print(x, type(x))\n",
        "x = memoryview(bytes(5)) #memoryview\n",
        "print(x, type(x))\n",
        "x = None #NoneType\n",
        "print(x, type(x))"
      ],
      "metadata": {
        "colab": {
          "base_uri": "https://localhost:8080/"
        },
        "id": "SaYtVHOs9oG9",
        "outputId": "401498e3-26ee-4015-8e6a-6d9c9cf7d1d6"
      },
      "execution_count": 27,
      "outputs": [
        {
          "output_type": "stream",
          "name": "stdout",
          "text": [
            "True <class 'bool'>\n",
            "b'Hello' <class 'bytes'>\n",
            "bytearray(b'\\x00\\x00\\x00\\x00\\x00') <class 'bytearray'>\n",
            "<memory at 0x7b78952dbf40> <class 'memoryview'>\n",
            "None <class 'NoneType'>\n"
          ]
        }
      ]
    },
    {
      "cell_type": "markdown",
      "source": [
        "## Ép kiểu (casting)"
      ],
      "metadata": {
        "id": "X_bDdcse_xNe"
      }
    },
    {
      "cell_type": "code",
      "source": [
        "x = str(3) # x will be '3'\n",
        "y = int(3) # y will be 3\n",
        "z = float(3) # z will be 3.0\n",
        "print(x, type(x))\n",
        "print(y, type(y))\n",
        "print(z, type(z))\n",
        "\n",
        "print(list(range(6)))"
      ],
      "metadata": {
        "colab": {
          "base_uri": "https://localhost:8080/"
        },
        "id": "KTNe4UDy_tWz",
        "outputId": "37877e34-0c7e-49d0-d920-fcb50a9969b1"
      },
      "execution_count": 31,
      "outputs": [
        {
          "output_type": "stream",
          "name": "stdout",
          "text": [
            "3 <class 'str'>\n",
            "3 <class 'int'>\n",
            "3.0 <class 'float'>\n",
            "[0, 1, 2, 3, 4, 5]\n"
          ]
        }
      ]
    },
    {
      "cell_type": "markdown",
      "source": [
        "##  Arithmetic Operators"
      ],
      "metadata": {
        "id": "8G1g8HUsAazX"
      }
    },
    {
      "cell_type": "code",
      "source": [
        "'''\n",
        "Operator Name Example\n",
        "+ Addition 7 + 2 = 9\n",
        "- Subtraction 7 - 2 = 5\n",
        "* Multiplication 7 * 2 = 14\n",
        "/ Division 7 / 2 = 3.5\n",
        "// Floor division 7 // 2 = 3 (Quotient)\n",
        "% Modulus 7 % 2 = 1 (Remainder)\n",
        "** Exponentiation 7 ** 2 = 49\n",
        "'''"
      ],
      "metadata": {
        "colab": {
          "base_uri": "https://localhost:8080/",
          "height": 53
        },
        "id": "4Slb_JufAOUZ",
        "outputId": "5657c74d-f484-414a-a856-87e51d098e74"
      },
      "execution_count": 32,
      "outputs": [
        {
          "output_type": "execute_result",
          "data": {
            "text/plain": [
              "'\\nOperator Name Example\\n+ Addition 7 + 2 = 9\\n- Subtraction 7 - 2 = 5\\n* Multiplication 7 * 2 = 14\\n/ Division 7 / 2 = 3.5\\n// Floor division 7 // 2 = 3 (Quotient)\\n% Modulus 7 % 2 = 1 (Remainder)\\n** Exponentiation 7 ** 2 = 49\\n'"
            ],
            "application/vnd.google.colaboratory.intrinsic+json": {
              "type": "string"
            }
          },
          "metadata": {},
          "execution_count": 32
        }
      ]
    },
    {
      "cell_type": "code",
      "source": [
        "print('7 + 2 =', 7 + 2)\n",
        "print('7 - 2 =', 7 - 2)\n",
        "print('7 * 2 =', 7 * 2)\n",
        "print('7 / 2 =', 7 / 2)\n",
        "print('7 // 2 =', 7 // 2)\n",
        "print('7 % 2 =', 7 % 2)\n",
        "print('7 ** 2 =', 7 ** 2)"
      ],
      "metadata": {
        "colab": {
          "base_uri": "https://localhost:8080/"
        },
        "id": "_0YnQSu1Arfo",
        "outputId": "89aad07f-402e-485f-ca47-d62b4a2956e7"
      },
      "execution_count": 33,
      "outputs": [
        {
          "output_type": "stream",
          "name": "stdout",
          "text": [
            "7 + 2 = 9\n",
            "7 - 2 = 5\n",
            "7 * 2 = 14\n",
            "7 / 2 = 3.5\n",
            "7 // 2 = 3\n",
            "7 % 2 = 1\n",
            "7 ** 2 = 49\n"
          ]
        }
      ]
    },
    {
      "cell_type": "markdown",
      "source": [
        "## Boolean (true/false)"
      ],
      "metadata": {
        "id": "ZPhBCQp4A2n-"
      }
    },
    {
      "cell_type": "code",
      "source": [
        "print(3 > 2)\n",
        "print(3 == 2)\n",
        "print(3 < 2)"
      ],
      "metadata": {
        "colab": {
          "base_uri": "https://localhost:8080/"
        },
        "id": "vsCszn3TAuae",
        "outputId": "7b056c58-1a31-414c-b405-b1a263615164"
      },
      "execution_count": 34,
      "outputs": [
        {
          "output_type": "stream",
          "name": "stdout",
          "text": [
            "True\n",
            "False\n",
            "False\n"
          ]
        }
      ]
    },
    {
      "cell_type": "code",
      "source": [
        "# Tính toán BMI\n",
        "# input\n",
        "height_cm = 170\n",
        "weight_kg = 60\n",
        "\n",
        "# process\n",
        "height_cm = height_cm / 100\n",
        "bmi = weight_kg / (height_cm ** 2)\n",
        "\n",
        "# output\n",
        "print(f'BMI = {bmi}')"
      ],
      "metadata": {
        "colab": {
          "base_uri": "https://localhost:8080/"
        },
        "id": "NqvEWOdkBHB0",
        "outputId": "db1fed30-ffc8-4208-f82b-b019fcb2b34c"
      },
      "execution_count": 36,
      "outputs": [
        {
          "output_type": "stream",
          "name": "stdout",
          "text": [
            "BMI = 20.761245674740486\n"
          ]
        }
      ]
    },
    {
      "cell_type": "code",
      "source": [
        "# Future value of a specified principal amount, rate of interest, and a number of years\n",
        "# How much is your $100 worth after 7 years?\n",
        "fv = 100 * 1.1 ** 7\n",
        "print('fv = ', round(fv, 2))"
      ],
      "metadata": {
        "colab": {
          "base_uri": "https://localhost:8080/"
        },
        "id": "C9-zrv2UCKW8",
        "outputId": "64d2e170-cb78-4433-a88e-92706b351129"
      },
      "execution_count": 37,
      "outputs": [
        {
          "output_type": "stream",
          "name": "stdout",
          "text": [
            "fv =  194.87\n"
          ]
        }
      ]
    },
    {
      "cell_type": "code",
      "source": [
        "# Future Value\n",
        "pv = 100\n",
        "r = 0.1\n",
        "n = 7\n",
        "fv = pv * ((1 + (r)) ** n)\n",
        "print(round(fv, 2))"
      ],
      "metadata": {
        "colab": {
          "base_uri": "https://localhost:8080/"
        },
        "id": "ILJu-Tu9CkGm",
        "outputId": "970f72fc-ac69-4197-f67d-ccb456f98e09"
      },
      "execution_count": 38,
      "outputs": [
        {
          "output_type": "stream",
          "name": "stdout",
          "text": [
            "194.87\n"
          ]
        }
      ]
    },
    {
      "cell_type": "code",
      "source": [
        "# Future Value\n",
        "amount = 100\n",
        "interest = 10 #10% = 0.01 * 10\n",
        "years = 7\n",
        "future_value = amount * ((1 + (0.01 * interest)) ** years)\n",
        "print(round(future_value, 2))\n",
        "print('fv = ', round(fv, 2))"
      ],
      "metadata": {
        "colab": {
          "base_uri": "https://localhost:8080/"
        },
        "id": "l1nysekTCo_4",
        "outputId": "7c991342-f767-48c3-d561-c0a69ffbe41d"
      },
      "execution_count": 40,
      "outputs": [
        {
          "output_type": "stream",
          "name": "stdout",
          "text": [
            "194.87\n",
            "fv =  194.87\n"
          ]
        }
      ]
    },
    {
      "cell_type": "markdown",
      "source": [
        "# Data Structures"
      ],
      "metadata": {
        "id": "ynZt93ciDKRF"
      }
    },
    {
      "cell_type": "code",
      "source": [
        "x = [\"apple\", \"banana\", \"cherry\"] #list\n",
        "print(x, type(x))\n",
        "x = (\"apple\", \"banana\", \"cherry\") #tuple\n",
        "print(x, type(x))\n",
        "x = {\"name\" : \"Tom\", \"age\" : 20} #dict\n",
        "print(x, type(x))\n",
        "x = {\"apple\", \"banana\", \"cherry\", \"cherry\"} #set\n",
        "print(x, type(x))"
      ],
      "metadata": {
        "colab": {
          "base_uri": "https://localhost:8080/"
        },
        "id": "EDPY1SnMDmsi",
        "outputId": "cbf7b1b1-b11b-4fa4-f613-f34fc3a76473"
      },
      "execution_count": 43,
      "outputs": [
        {
          "output_type": "stream",
          "name": "stdout",
          "text": [
            "['apple', 'banana', 'cherry'] <class 'list'>\n",
            "('apple', 'banana', 'cherry') <class 'tuple'>\n",
            "{'name': 'Tom', 'age': 20} <class 'dict'>\n",
            "{'banana', 'apple', 'cherry'} <class 'set'>\n"
          ]
        }
      ]
    },
    {
      "cell_type": "code",
      "source": [
        "x = [60, 70, 80, 90]\n",
        "print(len(x))\n",
        "print(x[0])\n",
        "print(x[1])\n",
        "print(x[-1])\n",
        "print(x[1:3])"
      ],
      "metadata": {
        "colab": {
          "base_uri": "https://localhost:8080/"
        },
        "id": "7Afp5jByDuaq",
        "outputId": "fec47412-b7f9-456c-b2b6-2ba63ff8a744"
      },
      "execution_count": 46,
      "outputs": [
        {
          "output_type": "stream",
          "name": "stdout",
          "text": [
            "4\n",
            "60\n",
            "70\n",
            "90\n",
            "[70, 80]\n"
          ]
        }
      ]
    },
    {
      "cell_type": "code",
      "source": [
        "animals = {'cat', 'dog'}\n",
        "print(animals)\n",
        "print('cat' in animals)\n",
        "print('fish' in animals)\n",
        "\n",
        "animals.add('fish')\n",
        "print('fish' in animals)\n",
        "print(len(animals))\n",
        "\n",
        "animals.add('cat')\n",
        "print(len(animals))\n",
        "\n",
        "animals.remove('cat')\n",
        "print(len(animals))"
      ],
      "metadata": {
        "colab": {
          "base_uri": "https://localhost:8080/"
        },
        "id": "dt9Ulw3AE5OV",
        "outputId": "d2276253-0c85-4aae-cce6-c3d89b9f8c95"
      },
      "execution_count": 48,
      "outputs": [
        {
          "output_type": "stream",
          "name": "stdout",
          "text": [
            "{'dog', 'cat'}\n",
            "True\n",
            "False\n",
            "True\n",
            "3\n",
            "3\n",
            "2\n"
          ]
        }
      ]
    },
    {
      "cell_type": "code",
      "source": [
        "s= \"Hom nay la thư hai\"\n",
        "print(len(s),len(list(s)))\n",
        "print(set(list(s)), len(set(list(s))))"
      ],
      "metadata": {
        "colab": {
          "base_uri": "https://localhost:8080/"
        },
        "id": "DHtfB-2pFk-i",
        "outputId": "15ed925a-aaf4-4db7-cd70-2cdb3ae777c1"
      },
      "execution_count": 50,
      "outputs": [
        {
          "output_type": "stream",
          "name": "stdout",
          "text": [
            "18 18\n",
            "{'i', 'l', 'm', 'y', ' ', 'n', 't', 'h', 'o', 'a', 'H', 'ư'} 12\n"
          ]
        }
      ]
    },
    {
      "cell_type": "code",
      "source": [
        "# đếm số lượng xuất hiện của ký tự\n",
        "s= \"hom nay la thu hai\"\n",
        "d_cnt={}\n",
        "for ci in s:\n",
        "    if ci not in d_cnt:\n",
        "        d_cnt[ci]=1\n",
        "    else:\n",
        "        d_cnt[ci]=d_cnt[ci]+1\n",
        "    print(d_cnt)"
      ],
      "metadata": {
        "colab": {
          "base_uri": "https://localhost:8080/"
        },
        "id": "PnkV--i8Ghqr",
        "outputId": "f4ff6897-6a80-4656-c4b9-e12b756b5ca9"
      },
      "execution_count": 68,
      "outputs": [
        {
          "output_type": "stream",
          "name": "stdout",
          "text": [
            "{'h': 1}\n",
            "{'h': 1, 'o': 1}\n",
            "{'h': 1, 'o': 1, 'm': 1}\n",
            "{'h': 1, 'o': 1, 'm': 1, ' ': 1}\n",
            "{'h': 1, 'o': 1, 'm': 1, ' ': 1, 'n': 1}\n",
            "{'h': 1, 'o': 1, 'm': 1, ' ': 1, 'n': 1, 'a': 1}\n",
            "{'h': 1, 'o': 1, 'm': 1, ' ': 1, 'n': 1, 'a': 1, 'y': 1}\n",
            "{'h': 1, 'o': 1, 'm': 1, ' ': 2, 'n': 1, 'a': 1, 'y': 1}\n",
            "{'h': 1, 'o': 1, 'm': 1, ' ': 2, 'n': 1, 'a': 1, 'y': 1, 'l': 1}\n",
            "{'h': 1, 'o': 1, 'm': 1, ' ': 2, 'n': 1, 'a': 2, 'y': 1, 'l': 1}\n",
            "{'h': 1, 'o': 1, 'm': 1, ' ': 3, 'n': 1, 'a': 2, 'y': 1, 'l': 1}\n",
            "{'h': 1, 'o': 1, 'm': 1, ' ': 3, 'n': 1, 'a': 2, 'y': 1, 'l': 1, 't': 1}\n",
            "{'h': 2, 'o': 1, 'm': 1, ' ': 3, 'n': 1, 'a': 2, 'y': 1, 'l': 1, 't': 1}\n",
            "{'h': 2, 'o': 1, 'm': 1, ' ': 3, 'n': 1, 'a': 2, 'y': 1, 'l': 1, 't': 1, 'u': 1}\n",
            "{'h': 2, 'o': 1, 'm': 1, ' ': 4, 'n': 1, 'a': 2, 'y': 1, 'l': 1, 't': 1, 'u': 1}\n",
            "{'h': 3, 'o': 1, 'm': 1, ' ': 4, 'n': 1, 'a': 2, 'y': 1, 'l': 1, 't': 1, 'u': 1}\n",
            "{'h': 3, 'o': 1, 'm': 1, ' ': 4, 'n': 1, 'a': 3, 'y': 1, 'l': 1, 't': 1, 'u': 1}\n",
            "{'h': 3, 'o': 1, 'm': 1, ' ': 4, 'n': 1, 'a': 3, 'y': 1, 'l': 1, 't': 1, 'u': 1, 'i': 1}\n"
          ]
        }
      ]
    },
    {
      "cell_type": "code",
      "source": [
        "''''\n",
        "Python Dictionary\n",
        "Key → Value\n",
        "'EN’ → 'English’\n",
        "'FR’ → 'French'"
      ],
      "metadata": {
        "id": "U6xQyJFsGVY6"
      },
      "execution_count": null,
      "outputs": []
    },
    {
      "cell_type": "code",
      "source": [
        "k = { 'EN':'English'\n",
        ",\n",
        "'FR':'French' }\n",
        "print(k['EN'])"
      ],
      "metadata": {
        "colab": {
          "base_uri": "https://localhost:8080/"
        },
        "id": "MnS7T3npGS9q",
        "outputId": "fff1c06b-3b23-43e0-c529-5a76ce53f51d"
      },
      "execution_count": 52,
      "outputs": [
        {
          "output_type": "stream",
          "name": "stdout",
          "text": [
            "English\n"
          ]
        }
      ]
    },
    {
      "cell_type": "code",
      "source": [
        "fruits = [\"apple\", \"banana\", \"cherry\"] #lists []\n",
        "print(fruits[1])\n",
        "colors = (\"red\", \"green\", \"blue\") #tuples ()\n",
        "print(colors)\n",
        "animals = {'cat', 'dog'} #sets {}\n",
        "print(animals)\n",
        "person = {\"name\" : \"Tom\", \"age\" : 20} #dictionaries {}\n",
        "print(person)"
      ],
      "metadata": {
        "colab": {
          "base_uri": "https://localhost:8080/"
        },
        "id": "7aPcMvXNGbpJ",
        "outputId": "69c40341-f944-4966-d450-3eab06016e32"
      },
      "execution_count": 57,
      "outputs": [
        {
          "output_type": "stream",
          "name": "stdout",
          "text": [
            "banana\n",
            "('red', 'green', 'blue')\n",
            "{'dog', 'cat'}\n",
            "{'name': 'Tom', 'age': 20}\n"
          ]
        }
      ]
    },
    {
      "cell_type": "code",
      "source": [
        "# Python Lists\n",
        "expenses = [72.50, 80.75, 50.00, 90.25]\n",
        "total_expenses = sum(expenses)\n",
        "print(\"Total expenses:\", total_expenses)"
      ],
      "metadata": {
        "colab": {
          "base_uri": "https://localhost:8080/"
        },
        "id": "OJggIlfkHgud",
        "outputId": "665621f1-5db2-43c8-ffc0-a490f80f4d7b"
      },
      "execution_count": 59,
      "outputs": [
        {
          "output_type": "stream",
          "name": "stdout",
          "text": [
            "Total expenses: 293.5\n"
          ]
        }
      ]
    },
    {
      "cell_type": "code",
      "source": [
        "# Python Tuples\n",
        "accounts = ((\"Cash\", 1001), (\"Accounts Receivable\", 1002),(\"Inventory\", 1003))\n",
        "for account in accounts:\n",
        "    print(\"Account name:\", account[0], \"Account number:\", account[1])"
      ],
      "metadata": {
        "colab": {
          "base_uri": "https://localhost:8080/"
        },
        "id": "XdX_K7r_HyD4",
        "outputId": "8f02d107-b072-444c-de70-b24c71c65a43"
      },
      "execution_count": 62,
      "outputs": [
        {
          "output_type": "stream",
          "name": "stdout",
          "text": [
            "Account name: Cash Account number: 1001\n",
            "Account name: Accounts Receivable Account number: 1002\n",
            "Account name: Inventory Account number: 1003\n"
          ]
        }
      ]
    },
    {
      "cell_type": "code",
      "source": [
        "# Python Sets\n",
        "account_numbers = {1001, 1002, 1003}\n",
        "new_account_number = 1004\n",
        "if new_account_number not in account_numbers:\n",
        "  print(\"Account number\", new_account_number, \"is not in use.\")"
      ],
      "metadata": {
        "colab": {
          "base_uri": "https://localhost:8080/"
        },
        "id": "8xoB90j-Hz0u",
        "outputId": "2fb6c636-6b75-47be-fdc0-1c5bb01f5bbb"
      },
      "execution_count": 64,
      "outputs": [
        {
          "output_type": "stream",
          "name": "stdout",
          "text": [
            "Account number 1004 is not in use.\n"
          ]
        }
      ]
    },
    {
      "cell_type": "code",
      "source": [
        "# Python Dictionaries\n",
        "accounts = {\"1001\": {\"name\": \"Cash\", \"balance\": 500.00, \"type\": \"Asset\"},\n",
        "\"1002\": {\"name\": \"Accounts Receivable\", \"balance\": 1000.00, \"type\": \"Asset\"},\n",
        "\"2001\": {\"name\": \"Accounts Payable\", \"balance\": 750.00, \"type\": \"Liability\"}}\n",
        "\n",
        "rows = [] # Initialize an empty list to store the account information\n",
        "\n",
        "for account_number, account_info in accounts.items():\n",
        "    print(\"Account number:\", account_number)\n",
        "    print(\"Account name:\", account_info[\"name\"])\n",
        "    print(\"Account balance:\", account_info[\"balance\"])\n",
        "    print(\"Account type:\", account_info[\"type\"])\n",
        "    print(\"-\"*20)\n",
        "    row ={'number' : account_number, **account_info}\n",
        "    rows.append(row)"
      ],
      "metadata": {
        "colab": {
          "base_uri": "https://localhost:8080/"
        },
        "id": "x7HnZ-gWI6Zw",
        "outputId": "e59a661a-33a9-4489-f7d3-eefffdb6791d"
      },
      "execution_count": 71,
      "outputs": [
        {
          "output_type": "stream",
          "name": "stdout",
          "text": [
            "Account number: 1001\n",
            "Account name: Cash\n",
            "Account balance: 500.0\n",
            "Account type: Asset\n",
            "--------------------\n",
            "Account number: 1002\n",
            "Account name: Accounts Receivable\n",
            "Account balance: 1000.0\n",
            "Account type: Asset\n",
            "--------------------\n",
            "Account number: 2001\n",
            "Account name: Accounts Payable\n",
            "Account balance: 750.0\n",
            "Account type: Liability\n",
            "--------------------\n"
          ]
        }
      ]
    },
    {
      "cell_type": "markdown",
      "source": [
        "# Python Control Logic and Loops"
      ],
      "metadata": {
        "id": "M-GmeBuuKgA9"
      }
    },
    {
      "cell_type": "code",
      "source": [
        "a, b = 5, 2\n",
        "print(\"<\", a<b) #a<b\n",
        "print(\">\",a>b,b<a)\n",
        "print(\">=\",a>=b, not(a<b))\n",
        "print(\"<=\",a<=b, not(a>b))"
      ],
      "metadata": {
        "colab": {
          "base_uri": "https://localhost:8080/"
        },
        "id": "7XGXyeeCI9n4",
        "outputId": "6a683b2c-a6f7-4027-c6af-11911bbd0e81"
      },
      "execution_count": 75,
      "outputs": [
        {
          "output_type": "stream",
          "name": "stdout",
          "text": [
            "< False\n",
            "> True True\n",
            ">= True True\n",
            "<= False False\n"
          ]
        }
      ]
    },
    {
      "cell_type": "code",
      "source": [
        "# Python if else\n",
        "score = 80\n",
        "if score >=60 :\n",
        "  print(\"Pass\")\n",
        "else:\n",
        "  print(\"Fail\")"
      ],
      "metadata": {
        "colab": {
          "base_uri": "https://localhost:8080/"
        },
        "id": "9-pwWnd9L19g",
        "outputId": "242fc2df-91cf-4ac4-a310-b2d603605f1a"
      },
      "execution_count": 77,
      "outputs": [
        {
          "output_type": "stream",
          "name": "stdout",
          "text": [
            "Pass\n"
          ]
        }
      ]
    },
    {
      "cell_type": "code",
      "source": [
        "score = 95\n",
        "if score >= 90 :\n",
        "    print(\"A\")\n",
        "elif score >=60 :\n",
        "  print(\"Pass\")\n",
        "else:\n",
        "  print(\"Fail\")"
      ],
      "metadata": {
        "colab": {
          "base_uri": "https://localhost:8080/"
        },
        "id": "yF7maCilMFBd",
        "outputId": "04de9588-ce9d-40ac-ba35-fc05deac1926"
      },
      "execution_count": 78,
      "outputs": [
        {
          "output_type": "stream",
          "name": "stdout",
          "text": [
            "A\n"
          ]
        }
      ]
    },
    {
      "cell_type": "code",
      "source": [
        "# Python if elif else\n",
        "score = 90\n",
        "grade = \"\"\n",
        "if score >=90:\n",
        "  grade = \"A\"\n",
        "elif score >= 80:\n",
        "  grade = \"B\"\n",
        "elif score >= 70:\n",
        "  grade = \"C\"\n",
        "elif score >= 60:\n",
        "  grade = \"D\"\n",
        "else:\n",
        "  grade = \"E\"\n",
        "print(grade)"
      ],
      "metadata": {
        "colab": {
          "base_uri": "https://localhost:8080/"
        },
        "id": "JV_RtZ7kMMZh",
        "outputId": "4ceb8d3d-3a98-4b42-b470-af8658d09df9"
      },
      "execution_count": 80,
      "outputs": [
        {
          "output_type": "stream",
          "name": "stdout",
          "text": [
            "A\n"
          ]
        }
      ]
    },
    {
      "cell_type": "code",
      "source": [
        "# python for loops\n",
        "for i in range(1,6):\n",
        "  print(i)"
      ],
      "metadata": {
        "colab": {
          "base_uri": "https://localhost:8080/"
        },
        "id": "UOuIkuyTMgfR",
        "outputId": "a0342493-cf72-48b2-e182-c742793ade6c"
      },
      "execution_count": 84,
      "outputs": [
        {
          "output_type": "stream",
          "name": "stdout",
          "text": [
            "1\n",
            "2\n",
            "3\n",
            "4\n",
            "5\n"
          ]
        }
      ]
    },
    {
      "cell_type": "code",
      "source": [
        "# for loops\n",
        "for i in range(1,10):\n",
        "  for j in range(1,10):\n",
        "    print(i, ' * ' , j , ' = ', i*j)\n",
        "  print(\"-\"*50)"
      ],
      "metadata": {
        "colab": {
          "base_uri": "https://localhost:8080/"
        },
        "id": "koAXu6saMqeN",
        "outputId": "400d4141-cb66-4d7b-ec1a-e1a32635d164"
      },
      "execution_count": 87,
      "outputs": [
        {
          "output_type": "stream",
          "name": "stdout",
          "text": [
            "1  *  1  =  1\n",
            "1  *  2  =  2\n",
            "1  *  3  =  3\n",
            "1  *  4  =  4\n",
            "1  *  5  =  5\n",
            "1  *  6  =  6\n",
            "1  *  7  =  7\n",
            "1  *  8  =  8\n",
            "1  *  9  =  9\n",
            "--------------------------------------------------\n",
            "2  *  1  =  2\n",
            "2  *  2  =  4\n",
            "2  *  3  =  6\n",
            "2  *  4  =  8\n",
            "2  *  5  =  10\n",
            "2  *  6  =  12\n",
            "2  *  7  =  14\n",
            "2  *  8  =  16\n",
            "2  *  9  =  18\n",
            "--------------------------------------------------\n",
            "3  *  1  =  3\n",
            "3  *  2  =  6\n",
            "3  *  3  =  9\n",
            "3  *  4  =  12\n",
            "3  *  5  =  15\n",
            "3  *  6  =  18\n",
            "3  *  7  =  21\n",
            "3  *  8  =  24\n",
            "3  *  9  =  27\n",
            "--------------------------------------------------\n",
            "4  *  1  =  4\n",
            "4  *  2  =  8\n",
            "4  *  3  =  12\n",
            "4  *  4  =  16\n",
            "4  *  5  =  20\n",
            "4  *  6  =  24\n",
            "4  *  7  =  28\n",
            "4  *  8  =  32\n",
            "4  *  9  =  36\n",
            "--------------------------------------------------\n",
            "5  *  1  =  5\n",
            "5  *  2  =  10\n",
            "5  *  3  =  15\n",
            "5  *  4  =  20\n",
            "5  *  5  =  25\n",
            "5  *  6  =  30\n",
            "5  *  7  =  35\n",
            "5  *  8  =  40\n",
            "5  *  9  =  45\n",
            "--------------------------------------------------\n",
            "6  *  1  =  6\n",
            "6  *  2  =  12\n",
            "6  *  3  =  18\n",
            "6  *  4  =  24\n",
            "6  *  5  =  30\n",
            "6  *  6  =  36\n",
            "6  *  7  =  42\n",
            "6  *  8  =  48\n",
            "6  *  9  =  54\n",
            "--------------------------------------------------\n",
            "7  *  1  =  7\n",
            "7  *  2  =  14\n",
            "7  *  3  =  21\n",
            "7  *  4  =  28\n",
            "7  *  5  =  35\n",
            "7  *  6  =  42\n",
            "7  *  7  =  49\n",
            "7  *  8  =  56\n",
            "7  *  9  =  63\n",
            "--------------------------------------------------\n",
            "8  *  1  =  8\n",
            "8  *  2  =  16\n",
            "8  *  3  =  24\n",
            "8  *  4  =  32\n",
            "8  *  5  =  40\n",
            "8  *  6  =  48\n",
            "8  *  7  =  56\n",
            "8  *  8  =  64\n",
            "8  *  9  =  72\n",
            "--------------------------------------------------\n",
            "9  *  1  =  9\n",
            "9  *  2  =  18\n",
            "9  *  3  =  27\n",
            "9  *  4  =  36\n",
            "9  *  5  =  45\n",
            "9  *  6  =  54\n",
            "9  *  7  =  63\n",
            "9  *  8  =  72\n",
            "9  *  9  =  81\n",
            "--------------------------------------------------\n"
          ]
        }
      ]
    },
    {
      "cell_type": "code",
      "source": [
        "# while loops\n",
        "age = 10\n",
        "while age < 20:\n",
        "  print(age, end=\" \")\n",
        "  age = age + 1"
      ],
      "metadata": {
        "colab": {
          "base_uri": "https://localhost:8080/"
        },
        "id": "eNFficpxM457",
        "outputId": "a5612f53-472e-43a5-e2ac-d673aba61e94"
      },
      "execution_count": 88,
      "outputs": [
        {
          "output_type": "stream",
          "name": "stdout",
          "text": [
            "10 11 12 13 14 15 16 17 18 19 "
          ]
        }
      ]
    },
    {
      "cell_type": "markdown",
      "source": [
        "# Python function"
      ],
      "metadata": {
        "id": "JLOBum4kNuJM"
      }
    },
    {
      "cell_type": "code",
      "source": [
        "# Python Function def\n",
        "# indentation for blocks. four spaces\n",
        "def getfv(pv, r, n):\n",
        "  fv = pv * ((1 + (r)) ** n)\n",
        "  return fv\n",
        "fv = getfv(100, 0.1, 7)\n",
        "print(round(fv, 2))\n",
        "print('fv = ', round(fv, 2))"
      ],
      "metadata": {
        "colab": {
          "base_uri": "https://localhost:8080/"
        },
        "id": "Q1IZ2bi9NrPz",
        "outputId": "de39437d-58ee-4423-d2ba-5753c86c7736"
      },
      "execution_count": 91,
      "outputs": [
        {
          "output_type": "stream",
          "name": "stdout",
          "text": [
            "194.87\n",
            "fv =  194.87\n"
          ]
        }
      ]
    },
    {
      "cell_type": "markdown",
      "source": [
        "## Classes/Object"
      ],
      "metadata": {
        "id": "k4dEuCuCOW_d"
      }
    },
    {
      "cell_type": "code",
      "source": [
        "# Python class\n",
        "class MyClass: # clas: mẫu giấy tờ\n",
        "  x = 5\n",
        "c1 = MyClass() # object: sinh viên điền vào mẫu giấy tờ\n",
        "print(c1.x)"
      ],
      "metadata": {
        "colab": {
          "base_uri": "https://localhost:8080/"
        },
        "id": "x6YJwvgoN--T",
        "outputId": "99374a04-065f-4e51-86d0-ccbd18b7a5e2"
      },
      "execution_count": 93,
      "outputs": [
        {
          "output_type": "stream",
          "name": "stdout",
          "text": [
            "5\n"
          ]
        }
      ]
    },
    {
      "cell_type": "code",
      "source": [
        "class Person:\n",
        "  def __init__(self, name, age): # hàm tạo, hàm trong class phải có từ khóa self\n",
        "    self.name = name # định nghĩa hình thức\n",
        "    self.age = age\n",
        "p1 = Person(\"Alan\", 20)\n",
        "print(p1.name)\n",
        "print(p1.age)"
      ],
      "metadata": {
        "colab": {
          "base_uri": "https://localhost:8080/"
        },
        "id": "KokZDWn7O1No",
        "outputId": "3190f785-ac4a-4ab1-f829-0c0b9a489eb2"
      },
      "execution_count": 97,
      "outputs": [
        {
          "output_type": "stream",
          "name": "stdout",
          "text": [
            "Alan\n",
            "20\n"
          ]
        }
      ]
    },
    {
      "cell_type": "code",
      "source": [
        "class Person:\n",
        "  def __init__(self, name, age): # hàm tạo, hàm trong class phải có từ khóa self\n",
        "    self.name = name # định nghĩa hình thức\n",
        "    self.age = age\n",
        "\n",
        "  def myfunc(self):\n",
        "    print(\"Hello my name is \" + self.name)\n",
        "\n",
        "p1 = Person(\"Alan\", 20)\n",
        "p1.myfunc()\n",
        "print(p1.name)\n",
        "print(p1.age)"
      ],
      "metadata": {
        "colab": {
          "base_uri": "https://localhost:8080/"
        },
        "id": "iLG-FE3LPWrb",
        "outputId": "431b002c-15df-452b-8bbf-9703ccd49558"
      },
      "execution_count": 104,
      "outputs": [
        {
          "output_type": "stream",
          "name": "stdout",
          "text": [
            "Hello my name is Alan\n",
            "Alan\n",
            "20\n"
          ]
        }
      ]
    },
    {
      "cell_type": "markdown",
      "source": [
        "## Module"
      ],
      "metadata": {
        "id": "YFZlbb_RQqaN"
      }
    },
    {
      "cell_type": "markdown",
      "source": [
        "## Python files/Directory"
      ],
      "metadata": {
        "id": "bCXUgqR9SRWq"
      }
    },
    {
      "cell_type": "code",
      "source": [
        "# Python File Input / Output\n",
        "filename = 'mymodule.py'\n",
        "with open(filename, 'w') as file:\n",
        "  text = '''def greeting(name):\n",
        "  print(\"Hello, \" + name)\n",
        "  '''\n",
        "  file.write(text)\n",
        "with open(filename, 'r') as file:\n",
        "  text = file.read()\n",
        "print(filename)\n",
        "print(text)"
      ],
      "metadata": {
        "colab": {
          "base_uri": "https://localhost:8080/"
        },
        "id": "exRGNKwGRJAh",
        "outputId": "c159a556-79df-40ac-9a36-001af86af747"
      },
      "execution_count": 111,
      "outputs": [
        {
          "output_type": "stream",
          "name": "stdout",
          "text": [
            "mymodule.py\n",
            "def greeting(name):\n",
            "  print(\"Hello, \" + name)\n",
            "  \n"
          ]
        }
      ]
    },
    {
      "cell_type": "code",
      "source": [
        "# mymodule.py\n",
        "def greeting(name):\n",
        "  print(\"Hello, \" + name)"
      ],
      "metadata": {
        "id": "GH3MZiwPSZsk"
      },
      "execution_count": 112,
      "outputs": []
    },
    {
      "cell_type": "code",
      "source": [
        "import importlib\n",
        "import mymodule\n",
        "importlib.reload(mymodule)\n",
        "mymodule.greeting(\"Alan\")"
      ],
      "metadata": {
        "colab": {
          "base_uri": "https://localhost:8080/"
        },
        "id": "yietC_v7So6E",
        "outputId": "a4d7e973-f21b-4e34-91d6-25c4a8f937bf"
      },
      "execution_count": 113,
      "outputs": [
        {
          "output_type": "stream",
          "name": "stdout",
          "text": [
            "Hello, Alan\n"
          ]
        }
      ]
    },
    {
      "cell_type": "code",
      "source": [
        "#Python main() function\n",
        "def main():\n",
        "  print(\"Hello World!\")\n",
        "if __name__ == \"__main__\":\n",
        "  main()"
      ],
      "metadata": {
        "colab": {
          "base_uri": "https://localhost:8080/"
        },
        "id": "DENDyShmStPp",
        "outputId": "ea0d620d-8a66-4e07-84f0-35eb685cd433"
      },
      "execution_count": 114,
      "outputs": [
        {
          "output_type": "stream",
          "name": "stdout",
          "text": [
            "Hello World!\n"
          ]
        }
      ]
    },
    {
      "cell_type": "markdown",
      "source": [
        "## files and exception **handling**"
      ],
      "metadata": {
        "id": "PplH-vj9TRDN"
      }
    },
    {
      "cell_type": "code",
      "source": [
        "with open(\"b.txt\", \"wt\") as file:\n",
        "  file.write(\"Hello\")\n",
        "\n",
        "try:\n",
        "  f= open(\"b.txt\")\n",
        "  f.close()\n",
        "except:\n",
        "  print(\"khong mo duoc\")\n",
        "finally:\n",
        "  print(\"ket thuc\")"
      ],
      "metadata": {
        "colab": {
          "base_uri": "https://localhost:8080/"
        },
        "id": "8xKnSazdS4t_",
        "outputId": "3bed810f-93e7-4c34-bb11-ad37b9580d4a"
      },
      "execution_count": 122,
      "outputs": [
        {
          "output_type": "stream",
          "name": "stdout",
          "text": [
            "ket thuc\n"
          ]
        }
      ]
    },
    {
      "cell_type": "code",
      "source": [],
      "metadata": {
        "id": "tyw88G1kTmdT"
      },
      "execution_count": null,
      "outputs": []
    }
  ]
}